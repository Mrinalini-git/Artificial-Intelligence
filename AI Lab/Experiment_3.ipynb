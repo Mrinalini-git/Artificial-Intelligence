{
 "cells": [
  {
   "cell_type": "code",
   "execution_count": 4,
   "id": "2bc6ebe5-0e0d-4165-8d1a-f87c660c5582",
   "metadata": {},
   "outputs": [
    {
     "name": "stdout",
     "output_type": "stream",
     "text": [
      "Least-cost path from A to Z: ['A', 'C', 'D', 'E', 'Z']\n",
      "Total Cost: 17\n"
     ]
    }
   ],
   "source": [
    "import heapq \n",
    "\n",
    "def uniform_cost_search(graph, start, goal):\n",
    "    priority_queue = [(0, start, [])] \n",
    "    visited = set() \n",
    "    \n",
    "    while priority_queue:\n",
    "        cost, node, path = heapq.heappop(priority_queue)  # get lowest cost node\n",
    "        \n",
    "        if node in visited:\n",
    "            continue \n",
    "        \n",
    "        path = path + [node] \n",
    "        visited.add(node)\n",
    "        \n",
    "        if node == goal:\n",
    "            return cost, path\n",
    "        \n",
    "        for neighbor, edge_cost in graph.get(node, []):\n",
    "            if neighbor not in visited:\n",
    "                heapq.heappush(priority_queue, (cost + edge_cost, neighbor, path))\n",
    "    \n",
    "    return float('inf'), [] \n",
    "\n",
    "graph = {\n",
    "    'A': [('B', 4), ('C', 3)],\n",
    "    'B': [('F', 5), ('E', 12)],\n",
    "    'C': [('E', 10), ('D', 7)],\n",
    "    'D': [('E', 2)],\n",
    "    'E': [('Z', 5)],\n",
    "    'F': [('Z', 16)]\n",
    "}\n",
    "\n",
    "start_node = 'A'\n",
    "goal_node = 'Z'  \n",
    "\n",
    "cost, path = uniform_cost_search(graph, start_node, goal_node)\n",
    "\n",
    "print(f\"Least-cost path from {start_node} to {goal_node}: {path}\")\n",
    "print(f\"Total Cost: {cost}\")\n"
   ]
  },
  {
   "cell_type": "code",
   "execution_count": null,
   "id": "69cdba6e-3d8b-4685-9a37-e4b475a7f420",
   "metadata": {},
   "outputs": [],
   "source": []
  }
 ],
 "metadata": {
  "kernelspec": {
   "display_name": "Python 3 (ipykernel)",
   "language": "python",
   "name": "python3"
  },
  "language_info": {
   "codemirror_mode": {
    "name": "ipython",
    "version": 3
   },
   "file_extension": ".py",
   "mimetype": "text/x-python",
   "name": "python",
   "nbconvert_exporter": "python",
   "pygments_lexer": "ipython3",
   "version": "3.13.1"
  }
 },
 "nbformat": 4,
 "nbformat_minor": 5
}
