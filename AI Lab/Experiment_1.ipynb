{
 "cells": [
  {
   "cell_type": "code",
   "execution_count": 1,
   "id": "0fd5e6ad-6f15-474d-8386-d322bcb110ed",
   "metadata": {},
   "outputs": [
    {
     "name": "stdout",
     "output_type": "stream",
     "text": [
      "Original array: [12  4 56  7 29 10]\n",
      "Sorted array: [ 4  7 10 12 29 56]\n"
     ]
    }
   ],
   "source": [
    "import numpy as np\n",
    "array = np.array([12, 4, 56, 7, 29, 10])\n",
    "sorted_array = np.sort(array)\n",
    "print(\"Original array:\", array)\n",
    "print(\"Sorted array:\", sorted_array)"
   ]
  },
  {
   "cell_type": "code",
   "execution_count": null,
   "id": "88d81471-1434-4c25-967b-82d5ed6599a2",
   "metadata": {},
   "outputs": [],
   "source": []
  }
 ],
 "metadata": {
  "kernelspec": {
   "display_name": "Python 3 (ipykernel)",
   "language": "python",
   "name": "python3"
  },
  "language_info": {
   "codemirror_mode": {
    "name": "ipython",
    "version": 3
   },
   "file_extension": ".py",
   "mimetype": "text/x-python",
   "name": "python",
   "nbconvert_exporter": "python",
   "pygments_lexer": "ipython3",
   "version": "3.13.1"
  }
 },
 "nbformat": 4,
 "nbformat_minor": 5
}
