{
 "cells": [
  {
   "cell_type": "code",
   "execution_count": 1,
   "id": "b83ea99d-77b0-4127-9677-39d7c13ef64c",
   "metadata": {},
   "outputs": [
    {
     "name": "stdin",
     "output_type": "stream",
     "text": [
      "Enter board size :  4\n"
     ]
    },
    {
     "name": "stdout",
     "output_type": "stream",
     "text": [
      "0 1 0 0\n",
      "0 0 0 1\n",
      "1 0 0 0\n",
      "0 0 1 0\n",
      "\n",
      "\n",
      "0 0 1 0\n",
      "1 0 0 0\n",
      "0 0 0 1\n",
      "0 1 0 0\n",
      "\n",
      "\n"
     ]
    }
   ],
   "source": [
    "def is_safe(a, row, col, n):\n",
    "\n",
    "    for i in range(row):\n",
    "        if a[i][col] == 1:\n",
    "            return False\n",
    "            \n",
    "    for i, j in zip(range(row, -1, -1), range(col, -1, -1)):\n",
    "        if a[i][j] == 1:\n",
    "            return False\n",
    "\n",
    "    for i, j in zip(range(row, -1, -1), range(col, n)):\n",
    "        if a[i][j] == 1:\n",
    "            return False\n",
    "\n",
    "    return True\n",
    "\n",
    "def nq(a, row, n):\n",
    "    if row == n:\n",
    "        for r in a:\n",
    "            print(\" \".join(\"1\" if cell == 1 else \"0\" for cell in r))\n",
    "        print(\"\\n\")\n",
    "        return True\n",
    "\n",
    "    nqueen = False\n",
    "    for col in range(n):\n",
    "        if is_safe(a, row, col, n):\n",
    "            a[row][col] = 1\n",
    "\n",
    "            nqueen = nq(a, row + 1, n) or nqueen\n",
    "            a[row][col] = 0\n",
    "\n",
    "    return nqueen\n",
    "\n",
    "def print_sol(n):\n",
    "    a = [[0 for _ in range(n)] for _ in range(n)]\n",
    "\n",
    "    if not nq(a, 0, n):\n",
    "        print()\n",
    "\n",
    "n = int(input(\"Enter board size : \"))\n",
    "print_sol(n)"
   ]
  },
  {
   "cell_type": "code",
   "execution_count": null,
   "id": "b3d52ca3-757e-44d0-ab75-2368c4bb9eed",
   "metadata": {},
   "outputs": [],
   "source": []
  }
 ],
 "metadata": {
  "kernelspec": {
   "display_name": "Python 3 (ipykernel)",
   "language": "python",
   "name": "python3"
  },
  "language_info": {
   "codemirror_mode": {
    "name": "ipython",
    "version": 3
   },
   "file_extension": ".py",
   "mimetype": "text/x-python",
   "name": "python",
   "nbconvert_exporter": "python",
   "pygments_lexer": "ipython3",
   "version": "3.13.1"
  }
 },
 "nbformat": 4,
 "nbformat_minor": 5
}
