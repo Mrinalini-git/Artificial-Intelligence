{
 "cells": [
  {
   "cell_type": "code",
   "execution_count": 2,
   "id": "0143e2a8-f4e2-424a-b936-f2131435aba5",
   "metadata": {},
   "outputs": [
    {
     "name": "stdout",
     "output_type": "stream",
     "text": [
      "Optimal value: 2\n"
     ]
    }
   ],
   "source": [
    "MAX, MIN = 1000, -1000\n",
    "\n",
    "def minimax(depth, nodeIndex, maximizingPlayer, values, alpha, beta):\n",
    "    if depth == 3:\n",
    "        return values[nodeIndex]\n",
    "    if maximizingPlayer:\n",
    "        best = MIN\n",
    "        for i in range(2):  \n",
    "            val = minimax(depth + 1, nodeIndex * 2 + i, False, values, alpha, beta)\n",
    "            best = max(best, val)\n",
    "            alpha = max(alpha, best)\n",
    "            if beta <= alpha:\n",
    "                break\n",
    "        return best\n",
    "    else:\n",
    "        best = MAX\n",
    "        for i in range(2):  \n",
    "            val = minimax(depth + 1, nodeIndex * 2 + i, True, values, alpha, beta)\n",
    "            best = min(best, val)\n",
    "            beta = min(beta, best)\n",
    "            if beta <= alpha:\n",
    "                break\n",
    "        return best\n",
    "        \n",
    "values = [1, 2, 5, 7, 0, 1, 6, 4]  \n",
    "print(\"Optimal value:\", minimax(0, 0, True, values, MIN, MAX))"
   ]
  },
  {
   "cell_type": "code",
   "execution_count": null,
   "id": "2fa51fe9-1ae2-4af5-927f-5676d721c366",
   "metadata": {},
   "outputs": [],
   "source": []
  }
 ],
 "metadata": {
  "kernelspec": {
   "display_name": "Python 3 (ipykernel)",
   "language": "python",
   "name": "python3"
  },
  "language_info": {
   "codemirror_mode": {
    "name": "ipython",
    "version": 3
   },
   "file_extension": ".py",
   "mimetype": "text/x-python",
   "name": "python",
   "nbconvert_exporter": "python",
   "pygments_lexer": "ipython3",
   "version": "3.13.1"
  }
 },
 "nbformat": 4,
 "nbformat_minor": 5
}
