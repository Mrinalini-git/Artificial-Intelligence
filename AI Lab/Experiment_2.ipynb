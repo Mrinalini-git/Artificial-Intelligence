{
 "cells": [
  {
   "cell_type": "code",
   "execution_count": 1,
   "id": "20dcc8bf-2903-4b3f-b947-6d4eefef18ff",
   "metadata": {},
   "outputs": [
    {
     "name": "stdout",
     "output_type": "stream",
     "text": [
      "DataFrame:\n",
      "      Name  Age Department  Salary\n",
      "0    Alice   24         HR   50000\n",
      "1      Bob   27    Finance   60000\n",
      "2  Charlie   22         IT   55000\n",
      "3    David   32  Marketing   65000\n",
      "\n",
      "Names:\n",
      "0      Alice\n",
      "1        Bob\n",
      "2    Charlie\n",
      "3      David\n",
      "Name: Name, dtype: object\n"
     ]
    }
   ],
   "source": [
    "import pandas as pd\n",
    "data = { 'Name': ['Alice', 'Bob', 'Charlie', 'David'], 'Age': [24, 27, 22, 32],'Department': \n",
    "        ['HR', 'Finance', 'IT', 'Marketing'], 'Salary': [50000, 60000, 55000, 65000] }\n",
    "\n",
    "df = pd.DataFrame(data)\n",
    "\n",
    "names_series = df['Name']\n",
    "\n",
    "print(\"DataFrame:\")\n",
    "print(df)\n",
    "print(\"\\nNames:\")\n",
    "print(names_series)"
   ]
  },
  {
   "cell_type": "code",
   "execution_count": 4,
   "id": "0f6528d4-9d6d-48b1-8902-6d122e6e702f",
   "metadata": {},
   "outputs": [
    {
     "name": "stdout",
     "output_type": "stream",
     "text": [
      "\n",
      "First two rows of the DataFrame from dictionary:\n",
      "    Name  Age Department  Salary\n",
      "0  Alice   24         HR   50000\n",
      "1    Bob   27    Finance   60000\n",
      "\n",
      "Basic statistical analysis of the DataFrame from dictionary:\n",
      "             Age        Salary\n",
      "count   4.000000      4.000000\n",
      "mean   26.250000  57500.000000\n",
      "std     4.349329   6454.972244\n",
      "min    22.000000  50000.000000\n",
      "25%    23.500000  53750.000000\n",
      "50%    25.500000  57500.000000\n",
      "75%    28.250000  61250.000000\n",
      "max    32.000000  65000.000000\n"
     ]
    }
   ],
   "source": [
    "df_list = pd.DataFrame(data_list, columns=['Name', 'Age', 'Department', 'Salary'])\n",
    "\n",
    "print(\"\\nFirst two rows of the DataFrame from dictionary:\")\n",
    "print(df_dict.head(2))\n",
    "\n",
    "print(\"\\nBasic statistical analysis of the DataFrame from dictionary:\")\n",
    "print(df_dict.describe())"
   ]
  },
  {
   "cell_type": "code",
   "execution_count": 6,
   "id": "c1e5c84d-c022-4ea9-a109-16663a67bacf",
   "metadata": {},
   "outputs": [
    {
     "name": "stdout",
     "output_type": "stream",
     "text": [
      "      id               name               nationality                 city  \\\n",
      "0      0          Kiana Lor                     China               Suzhou   \n",
      "1      1     Joshua Lonaker  United States of America        Santa Clarita   \n",
      "2      2      Dakota Blanco  United States of America              Oakland   \n",
      "3      3    Natasha Yarusso  United States of America        Castro Valley   \n",
      "4      4     Brooke Cazares                    Brazil  São José dos Campos   \n",
      "..   ...                ...                       ...                  ...   \n",
      "302  302        Austin Haas  United States of America             Columbus   \n",
      "303  303    Madison Fithian  United States of America          Los Angeles   \n",
      "304  304  Zachary Mulvahill  United States of America          Los Angeles   \n",
      "305  305   Eliana Michelsen  United States of America              Oakland   \n",
      "306  306    Dane Whittemore                    Canada              Toronto   \n",
      "\n",
      "     latitude  longitude gender  ethnic.group  age  english.grade  math.grade  \\\n",
      "0       31.31     120.62      F           NaN   22            3.5         3.7   \n",
      "1       34.39    -118.54      M           NaN   22            2.9         3.2   \n",
      "2       37.80    -122.27      F           NaN   22            3.9         3.8   \n",
      "3       37.69    -122.09      F           NaN   20            3.3         2.8   \n",
      "4      -23.18     -45.88      F           NaN   21            3.7         2.6   \n",
      "..        ...        ...    ...           ...  ...            ...         ...   \n",
      "302     39.96     -83.00      M           NaN   20            3.6         3.7   \n",
      "303     34.05    -118.24      F           NaN   20            3.6         3.9   \n",
      "304     34.05    -118.24      M           NaN   20            3.2         3.4   \n",
      "305     37.80    -122.27      F           NaN   23            3.0         2.8   \n",
      "306     43.67     -79.42      M           NaN   21            3.8         3.2   \n",
      "\n",
      "     sciences.grade  language.grade  portfolio.rating  coverletter.rating  \\\n",
      "0               3.1             1.0                 4                 4.0   \n",
      "1               3.6             5.0                 5                 4.0   \n",
      "2               3.2             5.0                 3                 3.0   \n",
      "3               3.2             5.0                 5                 2.0   \n",
      "4               3.4             1.0                 4                 4.0   \n",
      "..              ...             ...               ...                 ...   \n",
      "302             3.1             5.0                 4                 5.0   \n",
      "303             4.0             5.0                 5                 5.0   \n",
      "304             3.9             5.0                 5                 5.0   \n",
      "305             2.9             5.0                 4                 4.0   \n",
      "306             4.0             5.0                 5                 4.0   \n",
      "\n",
      "     refletter.rating  \n",
      "0                   4  \n",
      "1                   5  \n",
      "2                   4  \n",
      "3                   4  \n",
      "4                   5  \n",
      "..                ...  \n",
      "302                 5  \n",
      "303                 3  \n",
      "304                 3  \n",
      "305                 5  \n",
      "306                 5  \n",
      "\n",
      "[307 rows x 16 columns]\n"
     ]
    }
   ],
   "source": [
    "df2=pd.read_csv(\"student-dataset.csv\")\n",
    "print(df2)"
   ]
  },
  {
   "cell_type": "code",
   "execution_count": 11,
   "id": "17144601-6eb7-4b29-94ae-5f8b938c2843",
   "metadata": {},
   "outputs": [
    {
     "name": "stdout",
     "output_type": "stream",
     "text": [
      "Empty DataFrame\n",
      "Columns: [Name, Age, Department, Salary]\n",
      "Index: []\n"
     ]
    }
   ],
   "source": [
    "print(df.iloc[10:15])"
   ]
  },
  {
   "cell_type": "code",
   "execution_count": 12,
   "id": "ef21ab1e-f885-40a5-a2d9-8c08f666cb74",
   "metadata": {},
   "outputs": [
    {
     "data": {
      "text/html": [
       "<div>\n",
       "<style scoped>\n",
       "    .dataframe tbody tr th:only-of-type {\n",
       "        vertical-align: middle;\n",
       "    }\n",
       "\n",
       "    .dataframe tbody tr th {\n",
       "        vertical-align: top;\n",
       "    }\n",
       "\n",
       "    .dataframe thead th {\n",
       "        text-align: right;\n",
       "    }\n",
       "</style>\n",
       "<table border=\"1\" class=\"dataframe\">\n",
       "  <thead>\n",
       "    <tr style=\"text-align: right;\">\n",
       "      <th></th>\n",
       "      <th>Age</th>\n",
       "      <th>Salary</th>\n",
       "    </tr>\n",
       "  </thead>\n",
       "  <tbody>\n",
       "    <tr>\n",
       "      <th>count</th>\n",
       "      <td>4.000000</td>\n",
       "      <td>4.000000</td>\n",
       "    </tr>\n",
       "    <tr>\n",
       "      <th>mean</th>\n",
       "      <td>26.250000</td>\n",
       "      <td>57500.000000</td>\n",
       "    </tr>\n",
       "    <tr>\n",
       "      <th>std</th>\n",
       "      <td>4.349329</td>\n",
       "      <td>6454.972244</td>\n",
       "    </tr>\n",
       "    <tr>\n",
       "      <th>min</th>\n",
       "      <td>22.000000</td>\n",
       "      <td>50000.000000</td>\n",
       "    </tr>\n",
       "    <tr>\n",
       "      <th>25%</th>\n",
       "      <td>23.500000</td>\n",
       "      <td>53750.000000</td>\n",
       "    </tr>\n",
       "    <tr>\n",
       "      <th>50%</th>\n",
       "      <td>25.500000</td>\n",
       "      <td>57500.000000</td>\n",
       "    </tr>\n",
       "    <tr>\n",
       "      <th>75%</th>\n",
       "      <td>28.250000</td>\n",
       "      <td>61250.000000</td>\n",
       "    </tr>\n",
       "    <tr>\n",
       "      <th>max</th>\n",
       "      <td>32.000000</td>\n",
       "      <td>65000.000000</td>\n",
       "    </tr>\n",
       "  </tbody>\n",
       "</table>\n",
       "</div>"
      ],
      "text/plain": [
       "             Age        Salary\n",
       "count   4.000000      4.000000\n",
       "mean   26.250000  57500.000000\n",
       "std     4.349329   6454.972244\n",
       "min    22.000000  50000.000000\n",
       "25%    23.500000  53750.000000\n",
       "50%    25.500000  57500.000000\n",
       "75%    28.250000  61250.000000\n",
       "max    32.000000  65000.000000"
      ]
     },
     "execution_count": 12,
     "metadata": {},
     "output_type": "execute_result"
    }
   ],
   "source": [
    "df.describe()"
   ]
  },
  {
   "cell_type": "code",
   "execution_count": 13,
   "id": "9a2f3701-052e-402e-9751-a4f343ba7c53",
   "metadata": {},
   "outputs": [
    {
     "name": "stdout",
     "output_type": "stream",
     "text": [
      "<class 'pandas.core.frame.DataFrame'>\n",
      "RangeIndex: 4 entries, 0 to 3\n",
      "Data columns (total 4 columns):\n",
      " #   Column      Non-Null Count  Dtype \n",
      "---  ------      --------------  ----- \n",
      " 0   Name        4 non-null      object\n",
      " 1   Age         4 non-null      int64 \n",
      " 2   Department  4 non-null      object\n",
      " 3   Salary      4 non-null      int64 \n",
      "dtypes: int64(2), object(2)\n",
      "memory usage: 260.0+ bytes\n"
     ]
    }
   ],
   "source": [
    "df.info()"
   ]
  },
  {
   "cell_type": "code",
   "execution_count": null,
   "id": "7724b818-40d9-4dd3-9338-275d166aeaa0",
   "metadata": {},
   "outputs": [],
   "source": []
  }
 ],
 "metadata": {
  "kernelspec": {
   "display_name": "Python 3 (ipykernel)",
   "language": "python",
   "name": "python3"
  },
  "language_info": {
   "codemirror_mode": {
    "name": "ipython",
    "version": 3
   },
   "file_extension": ".py",
   "mimetype": "text/x-python",
   "name": "python",
   "nbconvert_exporter": "python",
   "pygments_lexer": "ipython3",
   "version": "3.13.1"
  }
 },
 "nbformat": 4,
 "nbformat_minor": 5
}
