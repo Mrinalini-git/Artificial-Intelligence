{
 "cells": [
  {
   "cell_type": "code",
   "execution_count": 3,
   "id": "1f6dd0fe-120d-4dd9-a605-da4c1a46643b",
   "metadata": {},
   "outputs": [
    {
     "name": "stdout",
     "output_type": "stream",
     "text": [
      "Path: ['A', 'B', 'D', 'G']\n"
     ]
    }
   ],
   "source": [
    "import heapq\n",
    "\n",
    "def a_star_search(graph, start, goal, heuristic):\n",
    "    open_list = []\n",
    "    heapq.heappush(open_list, (0, start))\n",
    "\n",
    "    g_score = {node: float('inf') for node in graph}\n",
    "    g_score[start] = 0\n",
    "\n",
    "    f_score = {node: float('inf') for node in graph}\n",
    "    f_score[start] = heuristic[start]\n",
    "\n",
    "    came_from = {}\n",
    "\n",
    "    while open_list:\n",
    "        _, current = heapq.heappop(open_list)\n",
    "\n",
    "        if current == goal:\n",
    "            path = []\n",
    "            while current in came_from:\n",
    "                path.append(current)\n",
    "                current = came_from[current]\n",
    "            path.append(start)\n",
    "            path.reverse()\n",
    "            return path\n",
    "\n",
    "        for neighbor, cost in graph[current].items():\n",
    "            temp_g_score = g_score[current] + cost\n",
    "\n",
    "            if temp_g_score < g_score[neighbor]:\n",
    "                came_from[neighbor] = current\n",
    "                g_score[neighbor] = temp_g_score\n",
    "                f_score[neighbor] = temp_g_score + heuristic[neighbor]\n",
    "                heapq.heappush(open_list, (f_score[neighbor], neighbor))\n",
    "\n",
    "    return None\n",
    "\n",
    "\n",
    "graph = {\n",
    "    'A': {'B': 1, 'C': 4},\n",
    "    'B': {'A': 1, 'D': 2, 'E': 5},\n",
    "    'C': {'A': 4, 'F': 1},\n",
    "    'D': {'B': 2, 'G': 2},\n",
    "    'E': {'B': 5},\n",
    "    'F': {'G': 1, 'C': 3},\n",
    "    'G': {'D': 2, 'F': 3},\n",
    "}\n",
    "\n",
    "heuristic = {\n",
    "    'A': 6,\n",
    "    'B': 4,\n",
    "    'C': 4,\n",
    "    'D': 3,\n",
    "    'E': 2,\n",
    "    'F': 2,\n",
    "    'G': 0\n",
    "}\n",
    "\n",
    "start = 'A'\n",
    "goal = 'G'\n",
    "\n",
    "path = a_star_search(graph, start, goal, heuristic)\n",
    "print(f\"Path: {path}\")\n"
   ]
  },
  {
   "cell_type": "code",
   "execution_count": null,
   "id": "762866f6-5dcd-4f41-ac63-240bb5b495e3",
   "metadata": {},
   "outputs": [],
   "source": []
  }
 ],
 "metadata": {
  "kernelspec": {
   "display_name": "Python 3 (ipykernel)",
   "language": "python",
   "name": "python3"
  },
  "language_info": {
   "codemirror_mode": {
    "name": "ipython",
    "version": 3
   },
   "file_extension": ".py",
   "mimetype": "text/x-python",
   "name": "python",
   "nbconvert_exporter": "python",
   "pygments_lexer": "ipython3",
   "version": "3.13.1"
  }
 },
 "nbformat": 4,
 "nbformat_minor": 5
}
