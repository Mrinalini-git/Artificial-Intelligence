{
 "cells": [
  {
   "cell_type": "code",
   "execution_count": 1,
   "id": "bf03e6be-477d-4710-ba5f-0ef985afe4d2",
   "metadata": {},
   "outputs": [
    {
     "name": "stdout",
     "output_type": "stream",
     "text": [
      "Best x: 3.3493 Best Value: 23.3938\n"
     ]
    }
   ],
   "source": [
    "import random\n",
    "def obj_func(x):\n",
    "    return x**2 + 4*x\n",
    "def hill(start, maximum):\n",
    "    current_x = start\n",
    "    current_value = obj_func(current_x)\n",
    "    for _ in range(maximum):\n",
    "        next_x = current_x + random.uniform(0,0.1)\n",
    "        next_value = obj_func(next_x)\n",
    "        if next_value > current_value:  \n",
    "            current_x = next_x + random.uniform(0,0.5)\n",
    "            current_value = next_value\n",
    "    return current_x, current_value\n",
    "current_state = 0\n",
    "maximum = 10\n",
    "result = hill(current_state, maximum)\n",
    "print(\"Best x: {:.4f} Best Value: {:.4f}\".format(result[0], result[1]))"
   ]
  },
  {
   "cell_type": "code",
   "execution_count": 4,
   "id": "af02396e-1ba9-4384-9012-28a2e900acaa",
   "metadata": {},
   "outputs": [
    {
     "name": "stdout",
     "output_type": "stream",
     "text": [
      "Best x: 3.6078 Best Value: 7.4805\n"
     ]
    }
   ],
   "source": [
    "import random\n",
    "def obj_func(x):\n",
    "    return x + 4\n",
    "def hill(start, maximum):\n",
    "    current_x = start\n",
    "    current_value = obj_func(current_x)\n",
    "    for _ in range(maximum):\n",
    "        next_x = current_x + random.uniform(0,0.1)\n",
    "        next_value = obj_func(next_x)\n",
    "        if next_value > current_value:  \n",
    "            current_x = next_x + random.uniform(0,0.5)\n",
    "            current_value = next_value\n",
    "    return current_x, current_value\n",
    "current_state = 0\n",
    "maximum = 10\n",
    "result = hill(current_state, maximum)\n",
    "print(\"Best x: {:.4f} Best Value: {:.4f}\".format(result[0], result[1]))"
   ]
  },
  {
   "cell_type": "code",
   "execution_count": null,
   "id": "89be7217-b2b3-464f-a60b-5df071755e5f",
   "metadata": {},
   "outputs": [],
   "source": []
  }
 ],
 "metadata": {
  "kernelspec": {
   "display_name": "Python 3 (ipykernel)",
   "language": "python",
   "name": "python3"
  },
  "language_info": {
   "codemirror_mode": {
    "name": "ipython",
    "version": 3
   },
   "file_extension": ".py",
   "mimetype": "text/x-python",
   "name": "python",
   "nbconvert_exporter": "python",
   "pygments_lexer": "ipython3",
   "version": "3.13.1"
  }
 },
 "nbformat": 4,
 "nbformat_minor": 5
}
